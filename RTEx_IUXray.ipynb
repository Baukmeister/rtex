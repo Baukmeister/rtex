{
  "nbformat": 4,
  "nbformat_minor": 0,
  "metadata": {
    "colab": {
      "name": "RTEx@IUXray.ipynb",
      "provenance": [],
      "collapsed_sections": [],
      "include_colab_link": true
    },
    "kernelspec": {
      "name": "python3",
      "display_name": "Python 3"
    }
  },
  "cells": [
    {
      "cell_type": "markdown",
      "metadata": {
        "id": "view-in-github",
        "colab_type": "text"
      },
      "source": [
        "<a href=\"https://colab.research.google.com/github/ipavlopoulos/rtex/blob/master/RTEx_IUXray.ipynb\" target=\"_parent\"><img src=\"https://colab.research.google.com/assets/colab-badge.svg\" alt=\"Open In Colab\"/></a>"
      ]
    },
    {
      "cell_type": "markdown",
      "metadata": {
        "id": "SbD6yKzIwNxJ",
        "colab_type": "text"
      },
      "source": [
        "# RTEx: Ranking, Tagging and Explanatory Diagnostic Captioning of Radiographs\n",
        "In this notebook we use the IUXray dataset to showcase an implementation of our suggested methodology. Please see our article for more details."
      ]
    },
    {
      "cell_type": "code",
      "metadata": {
        "id": "ztcJKoj_GfCX",
        "colab_type": "code",
        "outputId": "fceb1fed-5877-4c86-e059-c6ef6c60f77c",
        "colab": {
          "base_uri": "https://localhost:8080/",
          "height": 34
        }
      },
      "source": [
        "import os\n",
        "import numpy as np\n",
        "import pandas as pd\n",
        "from keras.models import load_model\n",
        "from keras.models import Model\n",
        "from keras.applications.densenet import preprocess_input\n",
        "from keras.preprocessing import image\n",
        "from tqdm import tqdm"
      ],
      "execution_count": 0,
      "outputs": [
        {
          "output_type": "stream",
          "text": [
            "Using TensorFlow backend.\n"
          ],
          "name": "stderr"
        }
      ]
    },
    {
      "cell_type": "markdown",
      "metadata": {
        "id": "zU_6yHyxEWme",
        "colab_type": "text"
      },
      "source": [
        "# Data setup"
      ]
    },
    {
      "cell_type": "markdown",
      "metadata": {
        "id": "tw-HQgLPLeMa",
        "colab_type": "text"
      },
      "source": [
        "Download the IUXray test data and the data handling code."
      ]
    },
    {
      "cell_type": "code",
      "metadata": {
        "id": "JVyTHrr1Lg0N",
        "colab_type": "code",
        "outputId": "2a57a4e1-2720-4b19-d1d8-1de7253ca073",
        "colab": {
          "base_uri": "https://localhost:8080/",
          "height": 85
        }
      },
      "source": [
        "# Download test datafiles\n",
        "! gdown --id 1nubphDVrKpB3Ss9uNaxHLUf2DWpqWRzq\n",
        "! unzip -q iu_xray_data.zip"
      ],
      "execution_count": 0,
      "outputs": [
        {
          "output_type": "stream",
          "text": [
            "Downloading...\n",
            "From: https://drive.google.com/uc?id=1nubphDVrKpB3Ss9uNaxHLUf2DWpqWRzq\n",
            "To: /content/iu_xray_data.zip\n",
            "\r  0% 0.00/166k [00:00<?, ?B/s]\r100% 166k/166k [00:00<00:00, 24.2MB/s]\n"
          ],
          "name": "stdout"
        }
      ]
    },
    {
      "cell_type": "code",
      "metadata": {
        "id": "u6ACNkZzElc9",
        "colab_type": "code",
        "colab": {}
      },
      "source": [
        "# Download iu xray images\n",
        "!wget https://openi.nlm.nih.gov/imgs/collections/NLMCXR_png.tgz\n",
        "!mkdir iu_xray\n",
        "!tar -xzf NLMCXR_png.tgz -C iu_xray/"
      ],
      "execution_count": 0,
      "outputs": []
    },
    {
      "cell_type": "code",
      "metadata": {
        "id": "EkG0B68zPKrS",
        "colab_type": "code",
        "outputId": "eed6af10-fd4e-4006-d8a4-1dade2a031eb",
        "colab": {
          "base_uri": "https://localhost:8080/",
          "height": 119
        }
      },
      "source": [
        "!git clone https://github.com/ipavlopoulos/rtex\n",
        "from rtex import data_handler"
      ],
      "execution_count": 0,
      "outputs": [
        {
          "output_type": "stream",
          "text": [
            "Cloning into 'rtex'...\n",
            "remote: Enumerating objects: 16, done.\u001b[K\n",
            "remote: Counting objects: 100% (16/16), done.\u001b[K\n",
            "remote: Compressing objects: 100% (15/15), done.\u001b[K\n",
            "remote: Total 16 (delta 5), reused 0 (delta 0), pack-reused 0\u001b[K\n",
            "Unpacking objects: 100% (16/16), done.\n"
          ],
          "name": "stdout"
        }
      ]
    },
    {
      "cell_type": "markdown",
      "metadata": {
        "id": "e38x9XHSin5D",
        "colab_type": "text"
      },
      "source": [
        "Load tags"
      ]
    },
    {
      "cell_type": "code",
      "metadata": {
        "id": "TIaYklQhip2y",
        "colab_type": "code",
        "colab": {}
      },
      "source": [
        "tags_df = pd.read_csv(\"mti_tags.csv\", header=None)\n",
        "tags_list = tags_df[0].to_list()"
      ],
      "execution_count": 0,
      "outputs": []
    },
    {
      "cell_type": "markdown",
      "metadata": {
        "id": "52PthNX6jcVw",
        "colab_type": "text"
      },
      "source": [
        "Load train data"
      ]
    },
    {
      "cell_type": "code",
      "metadata": {
        "id": "IHwrJkkWjbbs",
        "colab_type": "code",
        "colab": {}
      },
      "source": [
        "train = pd.read_csv(\"iu_xray_abnormal_train.tsv\", sep=\"\\t\")\n",
        "train_cases_images = dict(zip(train.reports,train.images))\n",
        "train_cases_tags = dict(zip(train.reports,train.mti_tags))\n",
        "train_cases_captions = dict(zip(train.reports,train.captions))"
      ],
      "execution_count": 0,
      "outputs": []
    },
    {
      "cell_type": "markdown",
      "metadata": {
        "id": "mEckdGVvE3-y",
        "colab_type": "text"
      },
      "source": [
        "Load test data and encode images"
      ]
    },
    {
      "cell_type": "code",
      "metadata": {
        "id": "lUp0InDsLvSt",
        "colab_type": "code",
        "colab": {}
      },
      "source": [
        "# Load data\n",
        "import pandas as pd\n",
        "test = pd.read_csv(\"iu_xray_all_test.tsv\", sep=\"\\t\")\n",
        "test_cases_images = dict(zip(test.reports,test.images))\n",
        "test_case_ids = list(test_cases_images.keys())"
      ],
      "execution_count": 0,
      "outputs": []
    },
    {
      "cell_type": "code",
      "metadata": {
        "id": "Ihv5A4sOP7NE",
        "colab_type": "code",
        "colab": {}
      },
      "source": [
        "# Encode all test images\n",
        "x_test = data_handler.encode_images(test_cases_images, \"iu_xray\")"
      ],
      "execution_count": 0,
      "outputs": []
    },
    {
      "cell_type": "markdown",
      "metadata": {
        "id": "nopaW0-pKbu8",
        "colab_type": "text"
      },
      "source": [
        "#RTEx@R\n",
        "* Rank a batch of radiography exams based on the probability that they contain an abnormality.\n",
        "* Top ranked are more likely to be abnormal."
      ]
    },
    {
      "cell_type": "code",
      "metadata": {
        "id": "IcaXYoL4Jurq",
        "colab_type": "code",
        "outputId": "8c627cd8-2142-4097-c980-28deb36ea2dc",
        "colab": {
          "base_uri": "https://localhost:8080/",
          "height": 85
        }
      },
      "source": [
        "# Download Bi-CXN checkpoint\n",
        "! gdown --id 1D8oHHSib1k8QHnDD_LLzf6lLbyjrtfOm\n",
        "! unzip -q iu_xray_bi_cxn.zip"
      ],
      "execution_count": 0,
      "outputs": [
        {
          "output_type": "stream",
          "text": [
            "Downloading...\n",
            "From: https://drive.google.com/uc?id=1D8oHHSib1k8QHnDD_LLzf6lLbyjrtfOm\n",
            "To: /content/iu_xray_bi_cxn.zip\n",
            "74.8MB [00:01, 70.2MB/s]\n"
          ],
          "name": "stdout"
        }
      ]
    },
    {
      "cell_type": "markdown",
      "metadata": {
        "id": "hPcwr5TjMdqu",
        "colab_type": "text"
      },
      "source": [
        "Load the BI-CXN model, which will rank the radiography exams"
      ]
    },
    {
      "cell_type": "code",
      "metadata": {
        "id": "8vlZbViWEspQ",
        "colab_type": "code",
        "colab": {}
      },
      "source": [
        "# Load Bi-CXN checkpoint\n",
        "bi_cxn = load_model(\"iu_xray_bi_cxn.hdf5\")"
      ],
      "execution_count": 0,
      "outputs": []
    },
    {
      "cell_type": "markdown",
      "metadata": {
        "id": "Nz2qMjpEFbj_",
        "colab_type": "text"
      },
      "source": [
        "Get the probabilities of the exams"
      ]
    },
    {
      "cell_type": "code",
      "metadata": {
        "id": "6rXe4mGHFViI",
        "colab_type": "code",
        "outputId": "ee227844-781b-4491-cb53-0e1918fe916d",
        "colab": {
          "base_uri": "https://localhost:8080/",
          "height": 34
        }
      },
      "source": [
        "# Bi-CXN prediction...\n",
        "test_abn_probs = bi_cxn.predict(x_test, batch_size=16, verbose=1).flatten()"
      ],
      "execution_count": 0,
      "outputs": [
        {
          "output_type": "stream",
          "text": [
            "562/562 [==============================] - 232s 412ms/step\n"
          ],
          "name": "stdout"
        }
      ]
    },
    {
      "cell_type": "markdown",
      "metadata": {
        "id": "2Kx-Q5nzF8v7",
        "colab_type": "text"
      },
      "source": [
        "Sort exams by abnormality probability in descending order and get the top 100 exams"
      ]
    },
    {
      "cell_type": "code",
      "metadata": {
        "id": "2irG38HgF2XF",
        "colab_type": "code",
        "colab": {}
      },
      "source": [
        "cases_probs = dict(zip(test_case_ids, test_abn_probs))\n",
        "# Sort all exams (a.k.a. cases)\n",
        "sorted_cases_probs = {k: v for k, v in sorted(cases_probs.items(), key=lambda item: item[1], reverse=True)}\n",
        "sorted_cases = list(sorted_cases_probs.keys())\n",
        "# Get the top 100 abnormal exams\n",
        "abnormal_cases_images = {case: test_cases_images[case] for case in sorted_cases[:100]}"
      ],
      "execution_count": 0,
      "outputs": []
    },
    {
      "cell_type": "markdown",
      "metadata": {
        "id": "XmE4b3LDHpmC",
        "colab_type": "text"
      },
      "source": [
        "#RTEx@T"
      ]
    },
    {
      "cell_type": "code",
      "metadata": {
        "id": "fFxLl5a8Hti5",
        "colab_type": "code",
        "outputId": "2f255f26-22e6-4f93-aac0-7fa9f2620a19",
        "colab": {
          "base_uri": "https://localhost:8080/",
          "height": 85
        }
      },
      "source": [
        "# Download TagCXN checkpoint\n",
        "! gdown --id 1MaQW72B1bOULBwvr4ieqE6lONPkqHgil\n",
        "! unzip -q iu_xray_tag_cxn.zip"
      ],
      "execution_count": 0,
      "outputs": [
        {
          "output_type": "stream",
          "text": [
            "Downloading...\n",
            "From: https://drive.google.com/uc?id=1MaQW72B1bOULBwvr4ieqE6lONPkqHgil\n",
            "To: /content/iu_xray_tag_cxn.zip\n",
            "85.6MB [00:01, 73.3MB/s]\n"
          ],
          "name": "stdout"
        }
      ]
    },
    {
      "cell_type": "markdown",
      "metadata": {
        "id": "Hrdnt9KrHQfj",
        "colab_type": "text"
      },
      "source": [
        "Load the TagCXN model, which will assign tags to the radiography exams"
      ]
    },
    {
      "cell_type": "code",
      "metadata": {
        "id": "_Hhh-woRJKKP",
        "colab_type": "code",
        "colab": {}
      },
      "source": [
        "# Load TagCXN checkpoint\n",
        "tag_cxn = load_model(\"iu_xray_tag_cxn.hdf5\")"
      ],
      "execution_count": 0,
      "outputs": []
    },
    {
      "cell_type": "code",
      "metadata": {
        "id": "LtxPiD4aIwG9",
        "colab_type": "code",
        "colab": {}
      },
      "source": [
        "# Encode abnormal test images\n",
        "abnormal_x_test = data_handler.encode_images(abnormal_cases_images, \"iu_xray\")"
      ],
      "execution_count": 0,
      "outputs": []
    },
    {
      "cell_type": "markdown",
      "metadata": {
        "id": "t-hsqH18I95R",
        "colab_type": "text"
      },
      "source": [
        "Assign tags to each exam"
      ]
    },
    {
      "cell_type": "code",
      "metadata": {
        "id": "Mx33JAFNH0tq",
        "colab_type": "code",
        "outputId": "41edb8ef-fc17-4db6-df8a-00dac7135787",
        "colab": {
          "base_uri": "https://localhost:8080/",
          "height": 34
        }
      },
      "source": [
        "# Get predictions for test set\n",
        "test_tag_probs = tag_cxn.predict(abnormal_x_test, batch_size=16, verbose=1)\n",
        "\n",
        "best_threshold = 0.097\n",
        "\n",
        "tagging_results = {}\n",
        "# for each exam, assign all tags above threshold\n",
        "for i in range(len(test_tag_probs)):\n",
        "    predicted_tags = []\n",
        "    for j in range(len(tags_list)):\n",
        "        if test_tag_probs[i, j] >= best_threshold:\n",
        "            predicted_tags.append(tags_list[j])\n",
        "    tagging_results[list(abnormal_cases_images.keys())[i]] = \";\".join(predicted_tags)"
      ],
      "execution_count": 0,
      "outputs": [
        {
          "output_type": "stream",
          "text": [
            "100/100 [==============================] - 46s 455ms/step\n"
          ],
          "name": "stdout"
        }
      ]
    },
    {
      "cell_type": "code",
      "metadata": {
        "id": "OrjYEIY6hAot",
        "colab_type": "code",
        "outputId": "29776057-c645-4b26-e473-c2a4c88e2e05",
        "colab": {
          "base_uri": "https://localhost:8080/",
          "height": 51
        }
      },
      "source": [
        "results = list(tagging_results.items())\n",
        "print(f\"For example, for the top-ranked {results[0][0]} exam, the following tags were found:\\n{', '.join(results[0][1].split(';'))}\")"
      ],
      "execution_count": 0,
      "outputs": [
        {
          "output_type": "stream",
          "text": [
            "For example, for the top-ranked CXR3892 exam, the following tags were found:\n",
            "atelectases, atelectasis, cardiomegaly, degenerative change, opacity, pleural effusion, pleural effusions, scarring\n"
          ],
          "name": "stdout"
        }
      ]
    },
    {
      "cell_type": "markdown",
      "metadata": {
        "id": "bDwmSwWXJpNy",
        "colab_type": "text"
      },
      "source": [
        "# RTEx@X"
      ]
    },
    {
      "cell_type": "markdown",
      "metadata": {
        "id": "_iqEhcB0J8Xh",
        "colab_type": "text"
      },
      "source": [
        "Use TagCXN to get exam embeddings for CNN+NN"
      ]
    },
    {
      "cell_type": "code",
      "metadata": {
        "id": "7VK19p4-J7k4",
        "colab_type": "code",
        "colab": {}
      },
      "source": [
        "# Extract from the model the concatenation layer\n",
        "vector_extraction_model = Model(inputs=tag_cxn.input,\n",
        "                        outputs=tag_cxn.get_layer(\"concatenate_1\").output)"
      ],
      "execution_count": 0,
      "outputs": []
    },
    {
      "cell_type": "markdown",
      "metadata": {
        "id": "wKrLbEiSLgXt",
        "colab_type": "text"
      },
      "source": [
        "Get the embeddings of the (abrnormal) train and test exams"
      ]
    },
    {
      "cell_type": "code",
      "metadata": {
        "id": "eTRKea9gLeQ9",
        "colab_type": "code",
        "outputId": "eda90946-2ecc-4081-9cb3-33e52899dec2",
        "colab": {
          "base_uri": "https://localhost:8080/",
          "height": 51
        }
      },
      "source": [
        "# Get train embeddings\n",
        "train_images_vec = data_handler.extract_img_embeddings(vector_extraction_model, \n",
        "                                              \"iu_xray\", train_cases_images)\n",
        "# Get test embeddings\n",
        "test_images_vec = data_handler.extract_img_embeddings(vector_extraction_model, \n",
        "                                            \"iu_xray\", abnormal_cases_images)"
      ],
      "execution_count": 0,
      "outputs": [
        {
          "output_type": "stream",
          "text": [
            "100%|██████████| 1183/1183 [09:14<00:00,  2.13it/s]\n",
            "100%|██████████| 100/100 [00:45<00:00,  2.19it/s]\n"
          ],
          "name": "stderr"
        }
      ]
    },
    {
      "cell_type": "code",
      "metadata": {
        "id": "rbzzQnCWK0X7",
        "colab_type": "code",
        "colab": {}
      },
      "source": [
        "def CNN_NN(vec, train_image_mat, train_ids):\n",
        "  \"\"\" \n",
        "  Search the train abnormal exams for the nearest one to the test exam.\n",
        "  Use Cosine similarity and the CNN-encoded radiograph embeddings.\n",
        "  @return: the text of the nearest exam  \n",
        "  \"\"\"\n",
        "  assert train_image_mat.shape[0] == len(train_ids)\n",
        "  vec = vec / np.sum(vec)\n",
        "  vec_clones = np.array([vec] * train_image_mat.shape[0])\n",
        "  similarities = np.sum(vec_clones * train_image_mat, 1)\n",
        "  newarest_id = train_ids[np.argmax(similarities)]\n",
        "  return train_cases_captions[newarest_id]"
      ],
      "execution_count": 0,
      "outputs": []
    },
    {
      "cell_type": "markdown",
      "metadata": {
        "id": "SrgyRgS0uc2R",
        "colab_type": "text"
      },
      "source": [
        "`CNNtNN`:\n",
        "Search the train abnormal exams with the same tags assigned, for the nearest one to the test exam. Use Cosine similarity and the CNN-encoded radiograph embeddings. Return the text of the nearest exam."
      ]
    },
    {
      "cell_type": "code",
      "metadata": {
        "id": "ifPhHNsgJstD",
        "colab_type": "code",
        "outputId": "aa241331-54c2-4616-8cf3-2f6700d85408",
        "colab": {
          "base_uri": "https://localhost:8080/",
          "height": 34
        }
      },
      "source": [
        "# 1NN+\n",
        "sim_test_results = {}\n",
        "for test_id in tqdm(abnormal_cases_images.keys()):\n",
        "    # screen the train DB for cases with the predicted tags (if none, use all)\n",
        "    predicted_tags = set(tagging_results[test_id])  # test_cases_tags[test_id])\n",
        "    train_indices = [i for i in train_images_vec.keys() if set(predicted_tags) == set(train_cases_tags[i])]\n",
        "    if len(train_indices) == 0:\n",
        "        train_indices = list(train_images_vec.keys())\n",
        "    # compute dot similarity with the train DB (screening or not)\n",
        "    raw = np.array([train_images_vec[i] for i in train_indices])\n",
        "    raw = raw / np.array([np.sum(raw, 1)] * raw.shape[1]).transpose()\n",
        "    sim_test_results[test_id] = CNN_NN(test_images_vec[test_id], raw, train_indices)"
      ],
      "execution_count": 0,
      "outputs": [
        {
          "output_type": "stream",
          "text": [
            "100%|██████████| 100/100 [00:00<00:00, 177.97it/s]\n"
          ],
          "name": "stderr"
        }
      ]
    },
    {
      "cell_type": "code",
      "metadata": {
        "id": "H1_Mnw-GmHS3",
        "colab_type": "code",
        "outputId": "39c3b28c-7d13-44a1-e303-c700a26ca177",
        "colab": {
          "base_uri": "https://localhost:8080/",
          "height": 71
        }
      },
      "source": [
        "results = list(sim_test_results.items())\n",
        "print(f\"For example, for the top-ranked {results[0][0]} exam, the following decription was provided:\\n{results[0][1]}\")"
      ],
      "execution_count": 0,
      "outputs": [
        {
          "output_type": "stream",
          "text": [
            "For example, for the top-ranked CXR3892 exam, the following decription was provided:\n",
            "moderate bilateral interstitial edema with cardiomegaly and bilateral effusion consistent with moderate cardiac failure newsentence a large calcified right mediastinal adenopathy xxxx chronic fungal newsentence no pneumothorax\n"
          ],
          "name": "stdout"
        }
      ]
    },
    {
      "cell_type": "code",
      "metadata": {
        "id": "0NCdZesTwBtK",
        "colab_type": "code",
        "colab": {}
      },
      "source": [
        ""
      ],
      "execution_count": 0,
      "outputs": []
    }
  ]
}